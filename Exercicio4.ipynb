{
 "cells": [
  {
   "cell_type": "markdown",
   "metadata": {},
   "source": [
    "# INF1032 - Introdução à Ciência dos Dados - 2018.1\n",
    "## Alunos:\n",
    "### Leonardo Edelman Wajnsztok - 1312737\n",
    "### Samuel Bastos - 1311416\n",
    "\n",
    "#### E 1.4 - Análises adicionais sobre o data set 'Adult' da UCI (due 2018-03-28 às 23:50)\n",
    "#### Proponham três ou quatro (3-4) perguntas que julgarem interessantes sobre os dados do data set 'Adult' da UCI (vejam o #### notebook 03 - Análise Exploratória de Dados) e busquem respostas (numérica e visualmente) a essas perguntas."
   ]
  },
  {
   "cell_type": "code",
   "execution_count": 130,
   "metadata": {},
   "outputs": [
    {
     "name": "stdout",
     "output_type": "stream",
     "text": [
      "skipped data (error? blank line?): b'\\n'\n"
     ]
    }
   ],
   "source": [
    "from IPython.display import display, Markdown, Latex\n",
    "import urllib\n",
    "\n",
    "# Data source:\n",
    "# https://archive.ics.uci.edu/ml/datasets/Adult\n",
    "\n",
    "url = 'https://archive.ics.uci.edu/ml/machine-learning-databases/adult/adult.data'\n",
    "# Arquivo texto, delimitado por vírgulas, sem cabeçalho\n",
    "\n",
    "data_raw=[]\n",
    "\n",
    "for line in urllib.request.urlopen(url):\n",
    "    # from bytes-like object to string\n",
    "    lined = line.decode()\n",
    "    # separa cada linha em campos (separados por vírgula)\n",
    "    field_lst = str(lined).split(', ')\n",
    "    \n",
    "    # inclui no data frame se o número de atributos for o esperado\n",
    "    if len(field_lst)==15:\n",
    "        data_raw.append(field_lst[0:15])\n",
    "    else:\n",
    "        print('skipped data (error? blank line?):', line)\n",
    "        \n",
    "# cria dataframe pandas com dados\n",
    "\n",
    "import pandas as pd\n",
    "df = pd.DataFrame(data_raw)\n",
    "df.shape\n",
    "\n",
    "df.columns = ['age', 'type_employer', 'fnlwgt', 'education', \n",
    "                \"education_num\",\"marital\", \"occupation\", \"relationship\", \"race\",\"sex\",\n",
    "                \"capital_gain\", \"capital_loss\", \"hr_per_week\",\"country\",\"income\"]"
   ]
  },
  {
   "cell_type": "code",
   "execution_count": 131,
   "metadata": {},
   "outputs": [],
   "source": [
    "# ajusta os tipos das colunas numéricas\n",
    "\n",
    "def str_to_int(c):\n",
    "    if isinstance(c, int):\n",
    "        return c\n",
    "    else:\n",
    "        try:\n",
    "            return int(c)\n",
    "        except:\n",
    "            return None\n",
    "  \n",
    "df.age = df.age.apply(str_to_int)\n",
    "df.fnlwgt = df.fnlwgt.apply(str_to_int)\n",
    "df.education_num = df.education_num.apply(str_to_int)\n",
    "df.capital_gain = df.capital_gain.apply(str_to_int)\n",
    "df.capital_loss = df.capital_loss.apply(str_to_int)\n",
    "df.hr_per_week = df.hr_per_week.apply(str_to_int)"
   ]
  },
  {
   "cell_type": "markdown",
   "metadata": {},
   "source": [
    "### I - Qual a diferença percentual do quanto brancos e negros ganham?"
   ]
  },
  {
   "cell_type": "code",
   "execution_count": 132,
   "metadata": {},
   "outputs": [
    {
     "name": "stdout",
     "output_type": "stream",
     "text": [
      "The rate of white people with high income is:     21.86 %.\n",
      "The rate of black people with high income is:    1.19 %.\n"
     ]
    },
    {
     "data": {
      "image/png": "[encoded data removed]",
      "text/plain": [
       "<matplotlib.figure.Figure at 0x240ed6e2780>"
      ]
     },
     "metadata": {},
     "output_type": "display_data"
    }
   ],
   "source": [
    "# Comparison between white/black people income \n",
    "\n",
    "import matplotlib\n",
    "import matplotlib.pyplot as plt\n",
    "import numpy as np\n",
    "\n",
    "df_race_income = df.groupby(['race', 'income']).size()\n",
    "df_race_income = df_race_income.unstack('income').fillna(0)\n",
    "df_race_income.plot(kind='barh', stacked=False)\n",
    "\n",
    "\n",
    "grand_total = np.sum(df_race_income.sum())\n",
    "df_percent_race_income = 100.* df_race_income / grand_total\n",
    "df_percent_race_income\n",
    "\n",
    "df_high_income = df_percent_race_income['>50K\\n']\n",
    "print('The rate of white people with high income is:    ', '{:5.2f}'.format(df_high_income['White']), '%.')\n",
    "print('The rate of black people with high income is:  ', '{:5.2f}'.format(df_high_income['Black']), '%.')"
   ]
  },
  {
   "cell_type": "markdown",
   "metadata": {},
   "source": [
    "### II - Qual a relação entre profissão e estado civil?"
   ]
  },
  {
   "cell_type": "code",
   "execution_count": 133,
   "metadata": {},
   "outputs": [
    {
     "data": {
      "text/html": [
       "<div>\n",
       "<style scoped>\n",
       "    .dataframe tbody tr th:only-of-type {\n",
       "        vertical-align: middle;\n",
       "    }\n",
       "\n",
       "    .dataframe tbody tr th {\n",
       "        vertical-align: top;\n",
       "    }\n",
       "\n",
       "    .dataframe thead th {\n",
       "        text-align: right;\n",
       "    }\n",
       "</style>\n",
       "<table border=\"1\" class=\"dataframe\">\n",
       "  <thead>\n",
       "    <tr style=\"text-align: right;\">\n",
       "      <th>marital</th>\n",
       "      <th>occupation</th>\n",
       "      <th>Divorced</th>\n",
       "      <th>Married-civ-spouse</th>\n",
       "      <th>Married-spouse-absent</th>\n",
       "      <th>Never-married</th>\n",
       "      <th>Separated</th>\n",
       "      <th>Widowed</th>\n",
       "    </tr>\n",
       "  </thead>\n",
       "  <tbody>\n",
       "    <tr>\n",
       "      <th>0</th>\n",
       "      <td>Adm-clerical</td>\n",
       "      <td>819.0</td>\n",
       "      <td>986.0</td>\n",
       "      <td>59.0</td>\n",
       "      <td>1591.0</td>\n",
       "      <td>147.0</td>\n",
       "      <td>163.0</td>\n",
       "    </tr>\n",
       "    <tr>\n",
       "      <th>1</th>\n",
       "      <td>Craft-repair</td>\n",
       "      <td>464.0</td>\n",
       "      <td>2564.0</td>\n",
       "      <td>52.0</td>\n",
       "      <td>872.0</td>\n",
       "      <td>103.0</td>\n",
       "      <td>41.0</td>\n",
       "    </tr>\n",
       "    <tr>\n",
       "      <th>2</th>\n",
       "      <td>Exec-managerial</td>\n",
       "      <td>604.0</td>\n",
       "      <td>2444.0</td>\n",
       "      <td>31.0</td>\n",
       "      <td>799.0</td>\n",
       "      <td>94.0</td>\n",
       "      <td>93.0</td>\n",
       "    </tr>\n",
       "    <tr>\n",
       "      <th>3</th>\n",
       "      <td>Farming-fishing</td>\n",
       "      <td>64.0</td>\n",
       "      <td>575.0</td>\n",
       "      <td>24.0</td>\n",
       "      <td>289.0</td>\n",
       "      <td>18.0</td>\n",
       "      <td>23.0</td>\n",
       "    </tr>\n",
       "    <tr>\n",
       "      <th>4</th>\n",
       "      <td>Handlers-cleaners</td>\n",
       "      <td>128.0</td>\n",
       "      <td>467.0</td>\n",
       "      <td>23.0</td>\n",
       "      <td>696.0</td>\n",
       "      <td>38.0</td>\n",
       "      <td>18.0</td>\n",
       "    </tr>\n",
       "    <tr>\n",
       "      <th>5</th>\n",
       "      <td>Machine-op-inspct</td>\n",
       "      <td>277.0</td>\n",
       "      <td>991.0</td>\n",
       "      <td>26.0</td>\n",
       "      <td>571.0</td>\n",
       "      <td>84.0</td>\n",
       "      <td>53.0</td>\n",
       "    </tr>\n",
       "    <tr>\n",
       "      <th>6</th>\n",
       "      <td>Other-service</td>\n",
       "      <td>501.0</td>\n",
       "      <td>723.0</td>\n",
       "      <td>59.0</td>\n",
       "      <td>1641.0</td>\n",
       "      <td>190.0</td>\n",
       "      <td>177.0</td>\n",
       "    </tr>\n",
       "    <tr>\n",
       "      <th>7</th>\n",
       "      <td>Priv-house-serv</td>\n",
       "      <td>28.0</td>\n",
       "      <td>16.0</td>\n",
       "      <td>4.0</td>\n",
       "      <td>67.0</td>\n",
       "      <td>12.0</td>\n",
       "      <td>22.0</td>\n",
       "    </tr>\n",
       "    <tr>\n",
       "      <th>8</th>\n",
       "      <td>Prof-specialty</td>\n",
       "      <td>539.0</td>\n",
       "      <td>2126.0</td>\n",
       "      <td>47.0</td>\n",
       "      <td>1234.0</td>\n",
       "      <td>99.0</td>\n",
       "      <td>92.0</td>\n",
       "    </tr>\n",
       "    <tr>\n",
       "      <th>9</th>\n",
       "      <td>Protective-serv</td>\n",
       "      <td>79.0</td>\n",
       "      <td>383.0</td>\n",
       "      <td>5.0</td>\n",
       "      <td>156.0</td>\n",
       "      <td>16.0</td>\n",
       "      <td>9.0</td>\n",
       "    </tr>\n",
       "    <tr>\n",
       "      <th>10</th>\n",
       "      <td>Sales</td>\n",
       "      <td>434.0</td>\n",
       "      <td>1663.0</td>\n",
       "      <td>34.0</td>\n",
       "      <td>1319.0</td>\n",
       "      <td>93.0</td>\n",
       "      <td>105.0</td>\n",
       "    </tr>\n",
       "    <tr>\n",
       "      <th>11</th>\n",
       "      <td>Tech-support</td>\n",
       "      <td>140.0</td>\n",
       "      <td>404.0</td>\n",
       "      <td>6.0</td>\n",
       "      <td>331.0</td>\n",
       "      <td>28.0</td>\n",
       "      <td>19.0</td>\n",
       "    </tr>\n",
       "    <tr>\n",
       "      <th>12</th>\n",
       "      <td>Transport-moving</td>\n",
       "      <td>181.0</td>\n",
       "      <td>994.0</td>\n",
       "      <td>19.0</td>\n",
       "      <td>340.0</td>\n",
       "      <td>37.0</td>\n",
       "      <td>25.0</td>\n",
       "    </tr>\n",
       "  </tbody>\n",
       "</table>\n",
       "</div>"
      ],
      "text/plain": [
       "marital         occupation  Divorced  Married-civ-spouse  \\\n",
       "0             Adm-clerical     819.0               986.0   \n",
       "1             Craft-repair     464.0              2564.0   \n",
       "2          Exec-managerial     604.0              2444.0   \n",
       "3          Farming-fishing      64.0               575.0   \n",
       "4        Handlers-cleaners     128.0               467.0   \n",
       "5        Machine-op-inspct     277.0               991.0   \n",
       "6            Other-service     501.0               723.0   \n",
       "7          Priv-house-serv      28.0                16.0   \n",
       "8           Prof-specialty     539.0              2126.0   \n",
       "9          Protective-serv      79.0               383.0   \n",
       "10                   Sales     434.0              1663.0   \n",
       "11            Tech-support     140.0               404.0   \n",
       "12        Transport-moving     181.0               994.0   \n",
       "\n",
       "marital  Married-spouse-absent  Never-married  Separated  Widowed  \n",
       "0                         59.0         1591.0      147.0    163.0  \n",
       "1                         52.0          872.0      103.0     41.0  \n",
       "2                         31.0          799.0       94.0     93.0  \n",
       "3                         24.0          289.0       18.0     23.0  \n",
       "4                         23.0          696.0       38.0     18.0  \n",
       "5                         26.0          571.0       84.0     53.0  \n",
       "6                         59.0         1641.0      190.0    177.0  \n",
       "7                          4.0           67.0       12.0     22.0  \n",
       "8                         47.0         1234.0       99.0     92.0  \n",
       "9                          5.0          156.0       16.0      9.0  \n",
       "10                        34.0         1319.0       93.0    105.0  \n",
       "11                         6.0          331.0       28.0     19.0  \n",
       "12                        19.0          340.0       37.0     25.0  "
      ]
     },
     "execution_count": 133,
     "metadata": {},
     "output_type": "execute_result"
    }
   ],
   "source": [
    "occupation_marital_df = df.groupby(['occupation', 'marital']).size()\n",
    "occupation_marital_wide_df = occupation_marital_df.unstack('marital')\n",
    "occupation_marital_wide_df = occupation_marital_wide_df[1:]\n",
    "occupation_marital_wide_df = occupation_marital_wide_df.drop('Armed-Forces').reset_index()\n",
    "occupation_marital_wide_df = occupation_marital_wide_df.drop('Married-AF-spouse', axis=1)\n",
    "occupation_marital_wide_df = occupation_marital_wide_df.fillna(0)\n",
    "occupation_marital_wide_df"
   ]
  },
  {
   "cell_type": "code",
   "execution_count": 134,
   "metadata": {},
   "outputs": [
    {
     "data": {
      "image/png": "[encoded data removed]",
      "text/plain": [
       "<matplotlib.figure.Figure at 0x240f285d2e8>"
      ]
     },
     "metadata": {},
     "output_type": "display_data"
    }
   ],
   "source": [
    "# Create a figure with a single subplot\n",
    "f, ax = plt.subplots(1, figsize=(10,5))\n",
    "bar_width = 1\n",
    "\n",
    "# positions of the left bar-boundaries\n",
    "bar_l = [i for i in range(len(occupation_marital_wide_df['Divorced']))] \n",
    "\n",
    "# positions of the x-axis ticks (center of the bars as bar labels)\n",
    "tick_pos = [i+(bar_width/2) for i in bar_l] \n",
    "\n",
    "# Create the total score for each participant\n",
    "totals = [i+j+k+l+m for i,j,k,l,m in zip(occupation_marital_wide_df['Divorced'], \n",
    "                        occupation_marital_wide_df['Married-civ-spouse'],occupation_marital_wide_df['Never-married'], \n",
    "                         occupation_marital_wide_df['Separated'], occupation_marital_wide_df['Widowed'])]\n",
    "\n",
    "\n",
    "divorced_rel = [i / j * 100 for  i,j in zip(occupation_marital_wide_df['Divorced'], totals)]\n",
    "married_clv_rel = [i / j * 100 for  i,j in zip(occupation_marital_wide_df['Married-civ-spouse'], totals)]\n",
    "never_maried_rel = [i / j * 100 for  i,j in zip(occupation_marital_wide_df['Never-married'], totals)]\n",
    "separated_rel = [i / j * 100 for  i,j in zip(occupation_marital_wide_df['Separated'], totals)]\n",
    "widowed_rel = [i / j * 100 for  i,j in zip(occupation_marital_wide_df['Widowed'], totals)]\n",
    "\n",
    "\n",
    "ax.bar(bar_l, divorced_rel, label='Divorced', alpha=0.9, color='#019600', width=bar_width, edgecolor='white')\n",
    "ax.bar(bar_l, married_clv_rel,bottom=divorced_rel,label='Married-civ-spouse',alpha=0.9,color='#FF7F50',width=bar_width,edgecolor='white')\n",
    "ax.bar(bar_l, never_maried_rel,bottom=[i+j for i,j in zip(divorced_rel, married_clv_rel)],label='Never Married',alpha=0.9,color='#219AD8',width=bar_width,edgecolor='white')\n",
    "ax.bar(bar_l, separated_rel, bottom=[i+j+k for i,j,k in zip(divorced_rel, married_clv_rel, never_maried_rel)], label='Separated',alpha=0.4, color='#219AD8', width=bar_width,edgecolor='white')\n",
    "ax.bar(bar_l, widowed_rel, bottom=[i+j+k+l for i,j,k,l in zip(divorced_rel, married_clv_rel, never_maried_rel, separated_rel)], label='Widowed',alpha=0.9, color='#C694D8', width=bar_width,edgecolor='white')\n",
    "# ax.bar(bar_l, widowed_rel, bottom=[i+j+k+l+m for i,j,k,l,m in zip(divorced_rel, married_clv_rel, never_maried_rel, separated_rel)], label='Widowed',alpha=0.9, color='#A094A8', width=bar_width,edgecolor='white')\n",
    "\n",
    "plt.xticks(tick_pos, occupation_marital_wide_df['occupation'])\n",
    "ax.set_ylabel(\"Percentage\")\n",
    "ax.set_xlabel(\"\")\n",
    "\n",
    "# Let the borders of the graphic\n",
    "plt.xlim([min(tick_pos)-bar_width, max(tick_pos)+bar_width])\n",
    "plt.ylim(0, 100)\n",
    "\n",
    "# rotate axis labels\n",
    "plt.setp(plt.gca().get_xticklabels(), rotation=30, horizontalalignment='right')\n",
    "# Now add the legend with some customizations.\n",
    "\n",
    "plt.legend(loc='upper right', shadow=True)\n",
    "# Shrink current axis by 20%\n",
    "box = ax.get_position()\n",
    "# Put a legend to the right of the current axis\n",
    "plt.legend(loc='center left', bbox_to_anchor=(1, 0.5))\n",
    "#plt.set_title('Relação entre profissão e estado civil')\n",
    "# shot plot\n",
    "plt.show()"
   ]
  },
  {
   "cell_type": "markdown",
   "metadata": {},
   "source": [
    "### III - Há alguma correlação entre income/race ?"
   ]
  },
  {
   "cell_type": "code",
   "execution_count": 135,
   "metadata": {},
   "outputs": [],
   "source": [
    "df['race'] = df['race'].map({'White': 0, 'Black': 1, 'Other': 2, 'Asian-Pac-Islander': 3, 'Amer-Indian-Eskimo': 4})"
   ]
  },
  {
   "cell_type": "code",
   "execution_count": 136,
   "metadata": {},
   "outputs": [
    {
     "name": "stdout",
     "output_type": "stream",
     "text": [
      "<class 'pandas.core.frame.DataFrame'>\n",
      "RangeIndex: 32561 entries, 0 to 32560\n",
      "Data columns (total 15 columns):\n",
      "age              32561 non-null int64\n",
      "type_employer    32561 non-null object\n",
      "fnlwgt           32561 non-null int64\n",
      "education        32561 non-null object\n",
      "education_num    32561 non-null int64\n",
      "marital          32561 non-null object\n",
      "occupation       32561 non-null object\n",
      "relationship     32561 non-null object\n",
      "race             32561 non-null int64\n",
      "sex              32561 non-null object\n",
      "capital_gain     32561 non-null int64\n",
      "capital_loss     32561 non-null int64\n",
      "hr_per_week      32561 non-null int64\n",
      "country          32561 non-null object\n",
      "income           32561 non-null object\n",
      "dtypes: int64(7), object(8)\n",
      "memory usage: 3.7+ MB\n"
     ]
    }
   ],
   "source": [
    "df.info()"
   ]
  },
  {
   "cell_type": "code",
   "execution_count": 137,
   "metadata": {},
   "outputs": [],
   "source": [
    "# Enumera race para que possa ser usado no calculo de correlation\n",
    "df['income'] = df['income'].map({'<=50K\\n': 0, '>50K\\n': 1})"
   ]
  },
  {
   "cell_type": "code",
   "execution_count": 138,
   "metadata": {},
   "outputs": [
    {
     "name": "stdout",
     "output_type": "stream",
     "text": [
      "<class 'pandas.core.frame.DataFrame'>\n",
      "RangeIndex: 32561 entries, 0 to 32560\n",
      "Data columns (total 15 columns):\n",
      "age              32561 non-null int64\n",
      "type_employer    32561 non-null object\n",
      "fnlwgt           32561 non-null int64\n",
      "education        32561 non-null object\n",
      "education_num    32561 non-null int64\n",
      "marital          32561 non-null object\n",
      "occupation       32561 non-null object\n",
      "relationship     32561 non-null object\n",
      "race             32561 non-null int64\n",
      "sex              32561 non-null object\n",
      "capital_gain     32561 non-null int64\n",
      "capital_loss     32561 non-null int64\n",
      "hr_per_week      32561 non-null int64\n",
      "country          32561 non-null object\n",
      "income           32561 non-null int64\n",
      "dtypes: int64(8), object(7)\n",
      "memory usage: 3.7+ MB\n"
     ]
    }
   ],
   "source": [
    "df.info()"
   ]
  },
  {
   "cell_type": "code",
   "execution_count": 139,
   "metadata": {},
   "outputs": [
    {
     "data": {
      "text/markdown": [
       "#### Pearson correlation coefficient (scipy)"
      ],
      "text/plain": [
       "<IPython.core.display.Markdown object>"
      ]
     },
     "metadata": {},
     "output_type": "display_data"
    },
    {
     "data": {
      "text/markdown": [
       "-0.05278"
      ],
      "text/plain": [
       "<IPython.core.display.Markdown object>"
      ]
     },
     "metadata": {},
     "output_type": "display_data"
    },
    {
     "data": {
      "text/markdown": [
       "correlação fraca ou não há correlação"
      ],
      "text/plain": [
       "<IPython.core.display.Markdown object>"
      ]
     },
     "metadata": {},
     "output_type": "display_data"
    },
    {
     "data": {
      "text/markdown": [
       "#### Spearman rank correlation coefficient (scipy)"
      ],
      "text/plain": [
       "<IPython.core.display.Markdown object>"
      ]
     },
     "metadata": {},
     "output_type": "display_data"
    },
    {
     "data": {
      "text/markdown": [
       "-0.08231"
      ],
      "text/plain": [
       "<IPython.core.display.Markdown object>"
      ]
     },
     "metadata": {},
     "output_type": "display_data"
    }
   ],
   "source": [
    "from scipy.stats.stats import spearmanr   \n",
    "\n",
    "r, p_value = pearsonr(df.race.values, df.income.values)\n",
    "display(Markdown('#### Pearson correlation coefficient (scipy)'))\n",
    "display(Markdown('{:.5f}'.format(r)))\n",
    "\n",
    "if abs(r) > 0.8:\n",
    "    display(Markdown('forte correlação'))\n",
    "else:\n",
    "    if abs(r) > 0.5:\n",
    "        display(Markdown('correlação média'))\n",
    "    else:\n",
    "        display(Markdown('correlação fraca ou não há correlação'))\n",
    "\n",
    "from scipy.stats.stats import spearmanr   \n",
    "\n",
    "display(Markdown('#### Spearman rank correlation coefficient (scipy)'))\n",
    "spearman_rho = spearmanr(df.race.values, df.income.values)[0]\n",
    "display(Markdown('{:.5f}'.format(spearman_rho)))"
   ]
  }
 ],
 "metadata": {
  "kernelspec": {
   "display_name": "Python 3",
   "language": "python",
   "name": "python3"
  },
  "language_info": {
   "codemirror_mode": {
    "name": "ipython",
    "version": 3
   },
   "file_extension": ".py",
   "mimetype": "text/x-python",
   "name": "python",
   "nbconvert_exporter": "python",
   "pygments_lexer": "ipython3",
   "version": "3.6.4"
  }
 },
 "nbformat": 4,
 "nbformat_minor": 2
}
