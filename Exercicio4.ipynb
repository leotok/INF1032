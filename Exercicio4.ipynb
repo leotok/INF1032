{
 "cells": [
  {
   "cell_type": "code",
   "execution_count": null,
   "metadata": {},
   "outputs": [],
   "source": [
    "from IPython.display import display, Markdown, Latex\n",
    "import urllib\n",
    "\n",
    "# Data source:\n",
    "# https://archive.ics.uci.edu/ml/datasets/Adult\n",
    "\n",
    "url = 'https://archive.ics.uci.edu/ml/machine-learning-databases/adult/adult.data'\n",
    "# Arquivo texto, delimitado por vírgulas, sem cabeçalho\n",
    "\n",
    "data_raw=[]\n",
    "\n",
    "for line in urllib.request.urlopen(url):\n",
    "    # from bytes-like object to string\n",
    "    lined = line.decode()\n",
    "    # separa cada linha em campos (separados por vírgula)\n",
    "    field_lst = str(lined).split(', ')\n",
    "    \n",
    "    # inclui no data frame se o número de atributos for o esperado\n",
    "    if len(field_lst)==15:\n",
    "        data_raw.append(field_lst[0:15])\n",
    "    else:\n",
    "        print('skipped data (error? blank line?):', line)\n",
    "        \n",
    "# cria dataframe pandas com dados\n",
    "\n",
    "import pandas as pd\n",
    "df = pd.DataFrame(data_raw)\n",
    "df.shape\n",
    "\n",
    "df.columns = ['age', 'type_employer', 'fnlwgt', 'education', \n",
    "                \"education_num\",\"marital\", \"occupation\", \"relationship\", \"race\",\"sex\",\n",
    "                \"capital_gain\", \"capital_loss\", \"hr_per_week\",\"country\",\"income\"]"
   ]
  },
  {
   "cell_type": "code",
   "execution_count": 38,
   "metadata": {},
   "outputs": [],
   "source": [
    "# ajusta os tipos das colunas numéricas\n",
    "\n",
    "def str_to_int(c):\n",
    "    if isinstance(c, int):\n",
    "        return c\n",
    "    else:\n",
    "        try:\n",
    "            return int(c)\n",
    "        except:\n",
    "            return None\n",
    "  \n",
    "\n",
    "df.age = df.age.apply(str_to_int)\n",
    "df.fnlwgt = df.fnlwgt.apply(str_to_int)\n",
    "df.education_num = df.education_num.apply(str_to_int)\n",
    "df.capital_gain = df.capital_gain.apply(str_to_int)\n",
    "df.capital_loss = df.capital_loss.apply(str_to_int)\n",
    "df.hr_per_week = df.hr_per_week.apply(str_to_int)"
   ]
  },
  {
   "cell_type": "code",
   "execution_count": 39,
   "metadata": {},
   "outputs": [
    {
     "name": "stdout",
     "output_type": "stream",
     "text": [
      "The rate of white people with high income is:     21.86 %.\n",
      "The rate of black people with high income is:    1.19 %.\n"
     ]
    },
    {
     "data": {
      "image/png": "[encoded data removed]",
      "text/plain": [
       "<matplotlib.figure.Figure at 0x21428f8cd68>"
      ]
     },
     "metadata": {},
     "output_type": "display_data"
    }
   ],
   "source": [
    "# Quão discrepante é a diferença entre o que negros e brancos ganham? \n",
    "\n",
    "import matplotlib\n",
    "import matplotlib.pyplot as plt\n",
    "import numpy as np\n",
    "\n",
    "df_race_income = df.groupby(['race', 'income']).size()\n",
    "df_race_income = df_race_income.unstack('income').fillna(0)\n",
    "df_race_income.plot(kind='barh', stacked=False)\n",
    "\n",
    "\n",
    "grand_total = np.sum(df_race_income.sum())\n",
    "df_percent_race_income = 100.* df_sex_income / grand_total\n",
    "df_percent_race_income\n",
    "\n",
    "df_high_income = df_percent_race_income['>50K\\n']\n",
    "print('The rate of white people with high income is:    ', '{:5.2f}'.format(df_high_income['White']), '%.')\n",
    "print('The rate of black people with high income is:  ', '{:5.2f}'.format(df_high_income['Black']), '%.')"
   ]
  }
 ],
 "metadata": {
  "kernelspec": {
   "display_name": "Python 3",
   "language": "python",
   "name": "python3"
  },
  "language_info": {
   "codemirror_mode": {
    "name": "ipython",
    "version": 3
   },
   "file_extension": ".py",
   "mimetype": "text/x-python",
   "name": "python",
   "nbconvert_exporter": "python",
   "pygments_lexer": "ipython3",
   "version": "3.6.4"
  }
 },
 "nbformat": 4,
 "nbformat_minor": 2
}
